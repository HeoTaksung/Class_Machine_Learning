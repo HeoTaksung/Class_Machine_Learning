{
 "cells": [
  {
   "cell_type": "code",
   "execution_count": 1,
   "metadata": {},
   "outputs": [
    {
     "name": "stdout",
     "output_type": "stream",
     "text": [
      "X Shape :  (41188, 21)\n",
      "Y Shape :  (41188, 1)\n",
      "THETA Shape :  (1, 21)\n"
     ]
    }
   ],
   "source": [
    "import numpy as np\n",
    "import pandas as pd\n",
    "from sklearn.model_selection import train_test_split\n",
    "\n",
    "import matplotlib.pyplot as plt\n",
    "\n",
    "dataframe = pd.read_csv('./Data/bank.csv')\n",
    "\n",
    "nor_dataframe = dataframe.values[:,0:-1]\n",
    "X = (nor_dataframe - nor_dataframe.mean())/nor_dataframe.std()\n",
    "\n",
    "X = np.concatenate((np.ones([X.shape[0], 1]), X), axis=1)\n",
    "\n",
    "y = dataframe.values[:,[-1]]\n",
    "theta = np.zeros([1, X.shape[1]])\n",
    "X_train, X_test, y_train, y_test = train_test_split(X, y, test_size=0.3)\n",
    "\n",
    "print('X Shape : ', X.shape)\n",
    "print('Y Shape : ', y.shape)\n",
    "print('THETA Shape : ', theta.shape)"
   ]
  },
  {
   "cell_type": "code",
   "execution_count": 2,
   "metadata": {},
   "outputs": [],
   "source": [
    "def sigmoid(X):\n",
    "    return 1.0/(1.0 + np.exp(-X))\n",
    "\n",
    "def hypothesis(X, theta):\n",
    "    h = sigmoid(X@theta.T)\n",
    "    return h\n",
    "\n",
    "def cost_fn(X, y, theta, regularization):\n",
    "\n",
    "    if regularization == False:\n",
    "        cost = (-1/len(X))*(np.sum(y * np.log(hypothesis(X, theta)) + (1-y) * np.log(1-hypothesis(X, theta))))\n",
    "        return cost\n",
    "    elif regularization == True:\n",
    "        lam = 0.1\n",
    "        cost = (-1/len(X))*(np.sum(y * np.log(hypothesis(X, theta)) + (1-y) * np.log(1-hypothesis(X, theta)))+lam/(2*len(X))*np.sum(np.power(theta,2)))\n",
    "        return cost\n",
    "\n",
    "def gradientDescent(X, y, theta, alpha, epochs, regularization):\n",
    "    cost_list = np.zeros(epochs)\n",
    "    lam = 1000\n",
    "\n",
    "    if regularization == False:\n",
    "        for i in range(epochs):\n",
    "\n",
    "            theta = theta - alpha*(1/len(X))*(np.sum((hypothesis(X, theta)-y)*X))\n",
    "            cost_list[i] = cost_fn(X, y, theta, regularization)\n",
    "\n",
    "        return theta, cost_list\n",
    "    elif regularization == True:\n",
    "        for i in range(epochs):\n",
    "\n",
    "            theta = theta - alpha*(1/len(X))*(np.sum((hypothesis(X, theta)-y)*X)+lam/len(X)*theta)\n",
    "            cost_list[i] = cost_fn(X, y, theta, regularization)\n",
    "        return theta, cost_list"
   ]
  },
  {
   "cell_type": "code",
   "execution_count": 3,
   "metadata": {},
   "outputs": [
    {
     "name": "stdout",
     "output_type": "stream",
     "text": [
      "Get Final THETA :  [[-1.49859751 -1.49859751 -1.49859751 -1.49859751 -1.49859751 -1.49859751\n",
      "  -1.49859751 -1.49859751 -1.49859751 -1.49859751 -1.49859751 -1.49859751\n",
      "  -1.49859751 -1.49859751 -1.49859751 -1.49859751 -1.49859751 -1.49859751\n",
      "  -1.49859751 -1.49859751 -1.49859751]]\n",
      "Get Final COST :  0.009022867961682234\n"
     ]
    },
    {
     "data": {
      "image/png": "[encoded data removed]",
      "text/plain": [
       "<Figure size 432x288 with 1 Axes>"
      ]
     },
     "metadata": {
      "needs_background": "light"
     },
     "output_type": "display_data"
    }
   ],
   "source": [
    "learning_rate = 0.001\n",
    "epochs = 10000\n",
    "\n",
    "f_theta, cost_list = gradientDescent(X_train, y_train, theta, learning_rate, epochs, regularization=False)\n",
    "print('Get Final THETA : ', f_theta)\n",
    "\n",
    "f_cost = cost_fn(X_test[1], y_test[1], f_theta, regularization = False)\n",
    "print('Get Final COST : ', f_cost)\n",
    "\n",
    "plt.plot(np.arange(epochs), cost_list, 'r')\n",
    "plt.xlabel('Number of Epochs')\n",
    "plt.ylabel('Cost')\n",
    "plt.show()"
   ]
  },
  {
   "cell_type": "code",
   "execution_count": null,
   "metadata": {},
   "outputs": [],
   "source": [
    "print('테스트 데이터 개수 : ', len(X_test))\n",
    "for i in range(len(X_test)):\n",
    "    predicted = hypothesis(X_test[i], f_theta)\n",
    "\n",
    "    if predicted >= 0.5:\n",
    "        result = 1\n",
    "    elif predicted < 0.5:\n",
    "        result = 0\n",
    "    print('\\n----- 예측 결과 출력 -----')\n",
    "    print('정답 : ', y_test[i])\n",
    "    print('예측 결과', result)"
   ]
  }
 ],
 "metadata": {
  "kernelspec": {
   "display_name": "Python 3",
   "language": "python",
   "name": "python3"
  },
  "language_info": {
   "codemirror_mode": {
    "name": "ipython",
    "version": 3
   },
   "file_extension": ".py",
   "mimetype": "text/x-python",
   "name": "python",
   "nbconvert_exporter": "python",
   "pygments_lexer": "ipython3",
   "version": "3.6.8"
  }
 },
 "nbformat": 4,
 "nbformat_minor": 2
}
