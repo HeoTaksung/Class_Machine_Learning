{
 "cells": [
  {
   "cell_type": "code",
   "execution_count": 1,
   "metadata": {},
   "outputs": [],
   "source": [
    "import numpy as np\n",
    "import pandas as pd\n",
    "import matplotlib.pyplot as plt\n",
    "\n",
    "def initialize_centroids(points, k):\n",
    "    init_centroids = points[np.random.randint(points.shape[0], size=k)]\n",
    "    return init_centroids\n",
    "\n",
    "def euclidean_distance(centroid, points):\n",
    "    dist = np.linalg.norm(points - centroid, axis=1)\n",
    "    return dist\n",
    "\n",
    "def second_smallest(numbers):\n",
    "    a1, a2 = float('inf'), float('inf')\n",
    "\n",
    "    for x in numbers:\n",
    "        if x <= a1:\n",
    "            a1, a2 = x, a1\n",
    "        elif x < a2:\n",
    "            a2 = x\n",
    "    return a2"
   ]
  },
  {
   "cell_type": "code",
   "execution_count": 2,
   "metadata": {},
   "outputs": [
    {
     "name": "stderr",
     "output_type": "stream",
     "text": [
      "c:\\python\\venv\\tensorflow\\lib\\site-packages\\numpy\\core\\fromnumeric.py:2920: RuntimeWarning: Mean of empty slice.\n",
      "  out=out, **kwargs)\n",
      "c:\\python\\venv\\tensorflow\\lib\\site-packages\\numpy\\core\\_methods.py:78: RuntimeWarning: invalid value encountered in true_divide\n",
      "  ret, rcount, out=ret, casting='unsafe', subok=False)\n"
     ]
    }
   ],
   "source": [
    "dataFrame = pd.read_csv('./Data/iris.csv')\n",
    "\n",
    "data = dataFrame.values\n",
    "\n",
    "X = data[:, 1:-1].astype(float)\n",
    "\n",
    "k = 3\n",
    "maxiter = 10\n",
    "\n",
    "best_cost = list()\n",
    "best_centroids = list()\n",
    "\n",
    "iter_centroids = list()\n",
    "iter_cost = list()\n",
    "\n",
    "for r in range(100):\n",
    "    m = len(X)\n",
    "\n",
    "    centroids = initialize_centroids(X, k)\n",
    "\n",
    "    classes = np.zeros(X.shape[0], dtype=np.float64)\n",
    "    distances = np.zeros([X.shape[0], k], dtype=np.float64)\n",
    "\n",
    "    mat_dist = np.zeros([X.shape[0], k], dtype=np.float64)\n",
    "\n",
    "    cost_list = list()\n",
    "    centroids_list = list()\n",
    "\n",
    "    for i in range(maxiter):\n",
    "        for idx, c, in enumerate(centroids):\n",
    "            distances[:, idx] = euclidean_distance(c, X)\n",
    "        each_cost = (1.0 / m)*np.sum(distances)\n",
    "\n",
    "        classes = np.argmin(distances, axis=1)\n",
    "\n",
    "        for cluster in range(k):\n",
    "            centroids[cluster] = np.mean(X[classes == cluster], 0)\n",
    "\n",
    "        for idx, c in enumerate(centroids):\n",
    "            mat_dist[:, idx] = euclidean_distance(c, X)\n",
    "        each_cost = (1.0 / m)*np.sum(mat_dist)\n",
    "\n",
    "        cost_list.append(each_cost)\n",
    "        centroids_list.append(centroids)\n",
    "\n",
    "    min_cost = np.argmin(cost_list, axis=0)\n",
    "    iter_cost.append(cost_list[min_cost])\n",
    "    iter_centroids.append(centroids_list[min_cost])"
   ]
  },
  {
   "cell_type": "code",
   "execution_count": 3,
   "metadata": {},
   "outputs": [
    {
     "name": "stdout",
     "output_type": "stream",
     "text": [
      "False\n",
      "두번째가 제일 작은 값!!\n",
      "6.832059856122014\n",
      "[[5.006      3.418      1.464      0.244     ]\n",
      " [5.88360656 2.74098361 4.38852459 1.43442623]\n",
      " [6.85384615 3.07692308 5.71538462 2.05384615]]\n"
     ]
    },
    {
     "data": {
      "image/png": "[encoded data removed]",
      "text/plain": [
       "<Figure size 288x288 with 1 Axes>"
      ]
     },
     "metadata": {
      "needs_background": "light"
     },
     "output_type": "display_data"
    }
   ],
   "source": [
    "cluster_min_cost = np.argmin(iter_cost, axis=0)\n",
    "\n",
    "if (np.isnan(cluster_min_cost) == True):\n",
    "    print(np.isnan(cluster_min_cost))\n",
    "    print(\"첫번째가 제일 작은 값!!\")\n",
    "    print(iter_cost[cluster_min_cost])\n",
    "    print(iter_centroids[cluster_min_cost])\n",
    "else:\n",
    "    print(np.isnan(cluster_min_cost))\n",
    "    print(\"두번째가 제일 작은 값!!\")\n",
    "    cluster_min_cost = second_smallest(iter_cost)\n",
    "    idx = iter_cost.index(cluster_min_cost)\n",
    "    print(iter_cost[idx])\n",
    "    print(iter_centroids[idx])\n",
    "\n",
    "group_colors = ['skyblue', 'coral', 'lightgreen']\n",
    "colors = [group_colors[j] for j in classes]\n",
    "\n",
    "fig, ax = plt.subplots(figsize=(4,4))\n",
    "ax.scatter(X[: ,0], X[: ,1], color=colors, alpha=0.5)\n",
    "ax.scatter(centroids[:,0], centroids[:,1], color=['b', 'r', 'g'], marker='o', lw=2)\n",
    "ax.set_xlabel('$x_0$')\n",
    "ax.set_ylabel('$x_1$')\n",
    "plt.show()"
   ]
  },
  {
   "cell_type": "code",
   "execution_count": null,
   "metadata": {},
   "outputs": [],
   "source": []
  }
 ],
 "metadata": {
  "kernelspec": {
   "display_name": "Python 3",
   "language": "python",
   "name": "python3"
  },
  "language_info": {
   "codemirror_mode": {
    "name": "ipython",
    "version": 3
   },
   "file_extension": ".py",
   "mimetype": "text/x-python",
   "name": "python",
   "nbconvert_exporter": "python",
   "pygments_lexer": "ipython3",
   "version": "3.6.8"
  }
 },
 "nbformat": 4,
 "nbformat_minor": 2
}
