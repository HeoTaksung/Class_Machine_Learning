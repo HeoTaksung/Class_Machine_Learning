{
 "cells": [
  {
   "cell_type": "code",
   "execution_count": 1,
   "metadata": {},
   "outputs": [],
   "source": [
    "import numpy as np\n",
    "\n",
    "def hypothesis(X, theta):\n",
    "    return X @ theta.T\n",
    "\n",
    "def cost_fn(X, y, theta):\n",
    "    c = np.sum(np.power(X@theta.T-y,2))/(2*len(X))\n",
    "    return c\n",
    "\n",
    "def gradientDescent(X, y, theta, alpha, epochs):\n",
    "    cost_list = np.zeros(epochs)\n",
    "\n",
    "    for i in range(epochs):\n",
    "        theta = theta-alpha*(1/len(X))*np.sum((X@theta.T-y)*X, axis=0)\n",
    "        cost_list[i] = cost_fn(X, y, theta)\n",
    "\n",
    "    return theta, cost_list"
   ]
  },
  {
   "cell_type": "code",
   "execution_count": 3,
   "metadata": {},
   "outputs": [
    {
     "name": "stdout",
     "output_type": "stream",
     "text": [
      "Get Final THETA :  [[0.01747131 0.19191127 0.00852    0.13105586 0.03399552 0.52229917\n",
      "  0.0164647 ]]\n",
      "Get Final COST :  0.1677096640432409\n"
     ]
    },
    {
     "data": {
      "image/png": "[encoded data removed]",
      "text/plain": [
       "<Figure size 432x288 with 1 Axes>"
      ]
     },
     "metadata": {
      "needs_background": "light"
     },
     "output_type": "display_data"
    },
    {
     "name": "stdout",
     "output_type": "stream",
     "text": [
      "정답 : [-0.52266776] / 예측 결과 : [-0.2893424]\n",
      "정답 : [-0.64511714] / 예측 결과 : [-0.54046254]\n",
      "정답 : [-0.36722867] / 예측 결과 : [-0.19778896]\n",
      "정답 : [-0.14999167] / 예측 결과 : [-0.15764011]\n",
      "정답 : [2.08432557] / 예측 결과 : [0.99353883]\n",
      "정답 : [0.0712316] / 예측 결과 : [-0.42016082]\n",
      "정답 : [-0.80196474] / 예측 결과 : [-0.54906349]\n",
      "정답 : [0.53902776] / 예측 결과 : [0.90943577]\n",
      "정답 : [-0.84629262] / 예측 결과 : [-0.39120284]\n",
      "정답 : [-0.04370391] / 예측 결과 : [0.17188825]\n",
      "정답 : [-0.96105493] / 예측 결과 : [-0.6562043]\n",
      "정답 : [-0.28836266] / 예측 결과 : [-0.09990368]\n",
      "정답 : [-0.19226161] / 예측 결과 : [-0.18879196]\n",
      "정답 : [-0.10248839] / 예측 결과 : [-0.20257824]\n",
      "정답 : [0.05813647] / 예측 결과 : [0.0944507]\n",
      "정답 : [-0.34069805] / 예측 결과 : [0.01242922]\n",
      "정답 : [-0.20421831] / 예측 결과 : [-0.05892607]\n",
      "정답 : [0.02856614] / 예측 결과 : [-0.1520247]\n",
      "정답 : [-0.70114055] / 예측 결과 : [-0.40219671]\n",
      "정답 : [-0.8736828] / 예측 결과 : [-0.55531118]\n"
     ]
    }
   ],
   "source": [
    "import pandas as pd\n",
    "from sklearn.model_selection import train_test_split\n",
    "import matplotlib.pyplot as plt\n",
    "\n",
    "dataframe = pd.read_csv('./Data/insurance.csv')\n",
    "\n",
    "dataframe = (dataframe - dataframe.mean())/dataframe.std()\n",
    "\n",
    "X = dataframe.iloc[:,0:6]\n",
    "X = np.concatenate((np.ones([X.shape[0], 1]), X), axis=1)\n",
    "\n",
    "y = dataframe.iloc[:, 6:7].values\n",
    "\n",
    "X_train, X_test, y_train, y_test = train_test_split(X, y, test_size=0.3)\n",
    "theta = np.zeros([1, len(X[0])])\n",
    "\n",
    "learning_rate = 0.001\n",
    "epochs = 1000\n",
    "\n",
    "f_theta, cost_list = gradientDescent(X_train, y_train, theta, learning_rate, epochs)\n",
    "print('Get Final THETA : ', f_theta)\n",
    "\n",
    "f_cost = cost_fn(X, y, f_theta)\n",
    "print('Get Final COST : ', f_cost)\n",
    "\n",
    "plt.plot(np.arange(epochs), cost_list, 'r')\n",
    "plt.xlabel('Number of Epochs')\n",
    "plt.ylabel('Cost')\n",
    "plt.show()\n",
    "\n",
    "for i in range(20):\n",
    "    h = hypothesis(X_test[i], f_theta)\n",
    "    print('정답 : {} / 예측 결과 : {}'.format(y_test[i], h))"
   ]
  },
  {
   "cell_type": "code",
   "execution_count": null,
   "metadata": {},
   "outputs": [],
   "source": []
  }
 ],
 "metadata": {
  "kernelspec": {
   "display_name": "Python 3",
   "language": "python",
   "name": "python3"
  },
  "language_info": {
   "codemirror_mode": {
    "name": "ipython",
    "version": 3
   },
   "file_extension": ".py",
   "mimetype": "text/x-python",
   "name": "python",
   "nbconvert_exporter": "python",
   "pygments_lexer": "ipython3",
   "version": "3.6.8"
  }
 },
 "nbformat": 4,
 "nbformat_minor": 2
}
