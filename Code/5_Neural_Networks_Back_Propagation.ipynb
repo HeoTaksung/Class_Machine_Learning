{
 "cells": [
  {
   "cell_type": "code",
   "execution_count": 1,
   "metadata": {},
   "outputs": [
    {
     "name": "stdout",
     "output_type": "stream",
     "text": [
      "X Shape :  (5000, 400)\n",
      "Y Shape :  (5000, 1)\n",
      "Y One-Hot Shape :  (5000, 10)\n"
     ]
    },
    {
     "name": "stderr",
     "output_type": "stream",
     "text": [
      "c:\\python\\venv\\tensorflow\\lib\\site-packages\\sklearn\\preprocessing\\_encoders.py:368: FutureWarning: The handling of integer data will change in version 0.22. Currently, the categories are determined based on the range [0, max(values)], while in the future they will be determined based on the unique values.\n",
      "If you want the future behaviour and silence this warning, you can specify \"categories='auto'\".\n",
      "In case you used a LabelEncoder before this OneHotEncoder to convert the categories to integers, then you can now use the OneHotEncoder directly.\n",
      "  warnings.warn(msg, FutureWarning)\n"
     ]
    }
   ],
   "source": [
    "import numpy as np\n",
    "from sklearn.preprocessing import OneHotEncoder\n",
    "from scipy.io import loadmat\n",
    "from scipy.optimize import minimize\n",
    "\n",
    "data = loadmat('./Data/ex3data1.mat')\n",
    "\n",
    "X = data['X']\n",
    "y = data['y']\n",
    "print('X Shape : ', X.shape)\n",
    "print('Y Shape : ', y.shape)\n",
    "\n",
    "encoder = OneHotEncoder(sparse=False)\n",
    "y_onehot = encoder.fit_transform(y)\n",
    "print('Y One-Hot Shape : ',y_onehot.shape)"
   ]
  },
  {
   "cell_type": "code",
   "execution_count": 2,
   "metadata": {},
   "outputs": [],
   "source": [
    "def sigmoid(z):\n",
    "    return 1/(1+np.exp(-z))\n",
    "\n",
    "def forward_propagation(X, theta_1, theta_2):\n",
    "    m = X.shape[0]\n",
    "\n",
    "    a1 = np.insert(X, 0, values=np.ones(m), axis=1)\n",
    "    z2 = a1*theta_1.T\n",
    "    a2 = np.insert(sigmoid(z2), 0, values=np.ones(m), axis=1)\n",
    "    z3 = a2*theta_2.T\n",
    "    h = sigmoid(z3)\n",
    "\n",
    "    return a1, z2, a2, z3, h\n",
    "\n",
    "def cost_fn(params, input_size, hidden_size, num_labels, X, y, learning_rate):\n",
    "    m = X.shape[0]\n",
    "    X = np.matrix(X)\n",
    "    y = np.matrix(y)\n",
    "\n",
    "    theta_1 = np.matrix(np.reshape(params[:hidden_size * (input_size+1)], (hidden_size, (input_size+1))))\n",
    "    theta_2 = np.matrix(np.reshape(params[hidden_size * (input_size+1):], (num_labels, (hidden_size+1))))\n",
    "\n",
    "    a1, z2, a2, z3, h = forward_propagation(X, theta_1, theta_2)\n",
    "\n",
    "    J = 0\n",
    "    for i in range(m):\n",
    "        first_term = np.multiply(-y[i,:], np.log(h[i, :]))\n",
    "        second_term = np.multiply((1-y[i, :]), np.log(1-h[i,:]))\n",
    "        J += np.sum(first_term - second_term)\n",
    "    \n",
    "    J = J/m\n",
    "    return J"
   ]
  },
  {
   "cell_type": "code",
   "execution_count": 3,
   "metadata": {},
   "outputs": [
    {
     "name": "stdout",
     "output_type": "stream",
     "text": [
      "cost :  7.073733164898658\n"
     ]
    }
   ],
   "source": [
    "input_size = 400\n",
    "hidden_size = 25\n",
    "num_labels = 10\n",
    "learning_rate = 0.1\n",
    "\n",
    "params = (np.random.random(size=hidden_size * (input_size + 1)+num_labels*(hidden_size+1))-0.5)*0.25\n",
    "\n",
    "m = X.shape[0]\n",
    "X = np.matrix(X)\n",
    "y = np.matrix(y)\n",
    "\n",
    "theta_1 = np.matrix(np.reshape(params[:hidden_size*(input_size+1)], (hidden_size, (input_size+1))))\n",
    "theta_2 = np.matrix(np.reshape(params[hidden_size * (input_size+1):], (num_labels, (hidden_size+1))))\n",
    "\n",
    "a1, z2, a2, z3, h = forward_propagation(X, theta_1, theta_2)\n",
    "print('cost : ', cost_fn(params, input_size, hidden_size, num_labels, X, y_onehot, learning_rate))"
   ]
  },
  {
   "cell_type": "code",
   "execution_count": 4,
   "metadata": {},
   "outputs": [],
   "source": [
    "def sigmoidGradient(z):\n",
    "    return np.multiply(sigmoid(z), (1-sigmoid(z)))\n",
    "\n",
    "def back_propagation(params, input_size, hidden_size, num_labels, X, y, learning_rate):\n",
    "    m = X.shape[0]\n",
    "    X = np.matrix(X)\n",
    "    y = np.matrix(y)\n",
    "\n",
    "    theta_1 = np.matrix(np.reshape(params[:hidden_size * (input_size+1)], (hidden_size, (input_size+1))))\n",
    "    theta_2 = np.matrix(np.reshape(params[hidden_size*(input_size+1):], (num_labels, (hidden_size+1))))\n",
    "\n",
    "    a1, z2, a2, z3, h = forward_propagation(X, theta_1, theta_2)\n",
    "\n",
    "    J = 0\n",
    "    delta1 = np.zeros(theta_1.shape)\n",
    "    delta2 = np.zeros(theta_2.shape)\n",
    "\n",
    "    for i in range(m):\n",
    "        first_term = np.multiply(-y[i,:], np.log(h[i, :]))\n",
    "        second_term = np.multiply((1-y[i, :]), np.log(1-h[i,:]))\n",
    "        J += np.sum(first_term - second_term)\n",
    "    \n",
    "    J = J/m\n",
    "\n",
    "    J += (float(learning_rate)/(2*m))*(np.sum(np.power(theta_1[:, 1:],2))+np.sum(np.power(theta_2[:, 1:], 2)))\n",
    "\n",
    "    for t in range(m):\n",
    "        a1t = a1[t,:]\n",
    "        z2t = z2[t,:]\n",
    "        a2t = a2[t,:]\n",
    "        ht = h[t,:]\n",
    "        yt = y[t,:]\n",
    "\n",
    "        d3t = ht - yt\n",
    "\n",
    "        z2t = np.insert(z2t, 0, values=np.ones(1))\n",
    "        d2t = np.multiply((theta_2.T * d3t.T).T, sigmoidGradient(z2t))\n",
    "\n",
    "        delta1 = delta1 + (d2t[:, 1:]).T * a1t\n",
    "        delta2 = delta2 + d3t.T * a2t\n",
    "\n",
    "    delta1 = delta1 / m\n",
    "    delta2 = delta2 / m\n",
    "\n",
    "    delta1[:, 1:] = delta1[:, 1:] + (theta_1[:, 1:] * learning_rate) / m\n",
    "    delta2[:, 1:] = delta2[:, 1:] + (theta_2[:, 1:] * learning_rate) / m\n",
    "\n",
    "    grad = np.concatenate((np.ravel(delta1), np.ravel(delta2)))\n",
    "\n",
    "    return J, grad"
   ]
  },
  {
   "cell_type": "code",
   "execution_count": 5,
   "metadata": {},
   "outputs": [
    {
     "name": "stdout",
     "output_type": "stream",
     "text": [
      "----- Training -----\n",
      "Accuracy : 96.98 %\n"
     ]
    }
   ],
   "source": [
    "J, grad = back_propagation(params, input_size, hidden_size, num_labels, X, y_onehot, learning_rate)\n",
    "\n",
    "print('----- Training -----')\n",
    "f_min = minimize(fun=back_propagation, x0=params, args=(input_size, hidden_size, num_labels, X, y_onehot, learning_rate), method='TNC', jac=True, options={\"maxiter\":100})\n",
    "\n",
    "X = np.matrix(X)\n",
    "theta_1 = np.matrix(np.reshape(f_min.x[:hidden_size * (input_size+1)], (hidden_size, (input_size+1))))\n",
    "theta_2 = np.matrix(np.reshape(f_min.x[hidden_size * (input_size + 1):], (num_labels, (hidden_size+1))))\n",
    "\n",
    "a1, z2, a2, z3, h = forward_propagation(X, theta_1, theta_2)\n",
    "y_pred = np.array(np.argmax(h, axis=1)+1)\n",
    "\n",
    "correct = [1 if a == b else 0 for (a,b) in zip(y_pred, y)]\n",
    "acc = (sum(map(int, correct))/float(len(correct)))\n",
    "print('Accuracy : {0} %'.format(acc*100))"
   ]
  },
  {
   "cell_type": "code",
   "execution_count": null,
   "metadata": {},
   "outputs": [],
   "source": []
  }
 ],
 "metadata": {
  "kernelspec": {
   "display_name": "Python 3",
   "language": "python",
   "name": "python3"
  },
  "language_info": {
   "codemirror_mode": {
    "name": "ipython",
    "version": 3
   },
   "file_extension": ".py",
   "mimetype": "text/x-python",
   "name": "python",
   "nbconvert_exporter": "python",
   "pygments_lexer": "ipython3",
   "version": "3.6.8"
  }
 },
 "nbformat": 4,
 "nbformat_minor": 2
}
