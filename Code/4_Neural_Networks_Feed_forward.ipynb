{
 "cells": [
  {
   "cell_type": "code",
   "execution_count": 1,
   "metadata": {},
   "outputs": [],
   "source": [
    "import numpy as np\n",
    "\n",
    "def sigmoid(X):\n",
    "    return 1.0 / (1.0 + np.exp(-X))\n",
    "\n",
    "def init_network():\n",
    "    networks = {}\n",
    "    networks['W1'] = np.array([[0.1, 0.3, 0.5], [0.2, 0.4, 0.6]])\n",
    "    networks['b1'] = np.array([0.1, 0.2, 0.3])\n",
    "    \n",
    "    networks['W2'] = np.array([[0.1, 0.4], [0.2, 0.5], [0.3, 0.6]])\n",
    "    networks['b2'] = np.array([0.1, 0.2])\n",
    "\n",
    "    networks['W3'] = np.array([[0.1], [0.3]])\n",
    "    networks['b3'] = np.array([0.1])\n",
    "\n",
    "    return networks\n",
    "\n",
    "def feed_forward(networks, x):\n",
    "    W1, W2, W3 = networks['W1'], networks['W2'], networks['W3']\n",
    "    b1, b2, b3 = networks['b1'], networks['b2'], networks['b3']\n",
    "    \n",
    "    h1 = np.dot(x, W1) + b1\n",
    "    z1 = sigmoid(h1)\n",
    "\n",
    "    h2 = np.dot(z1, W2) + b2\n",
    "    z2 = sigmoid(h2)\n",
    "\n",
    "    h3 = np.dot(z2, W3) + b3\n",
    "    h_y = sigmoid(h3)\n",
    "\n",
    "    return h_y"
   ]
  },
  {
   "cell_type": "code",
   "execution_count": 2,
   "metadata": {},
   "outputs": [
    {
     "name": "stdout",
     "output_type": "stream",
     "text": [
      "정답 :  1.0\n",
      "Feed-forward 결과 :  1.0\n"
     ]
    }
   ],
   "source": [
    "network = init_network()\n",
    "x = np.array([1.0, 0.5])\n",
    "y = 1.0\n",
    "\n",
    "h_y = feed_forward(network, x)\n",
    "\n",
    "if h_y >= 0.5:\n",
    "    h_y = 1.0\n",
    "elif h_y < 0.5:\n",
    "    h_y = 0.0\n",
    "\n",
    "print('정답 : ', y)\n",
    "print('Feed-forward 결과 : ', h_y)"
   ]
  },
  {
   "cell_type": "code",
   "execution_count": null,
   "metadata": {},
   "outputs": [],
   "source": []
  }
 ],
 "metadata": {
  "kernelspec": {
   "display_name": "Python 3",
   "language": "python",
   "name": "python3"
  },
  "language_info": {
   "codemirror_mode": {
    "name": "ipython",
    "version": 3
   },
   "file_extension": ".py",
   "mimetype": "text/x-python",
   "name": "python",
   "nbconvert_exporter": "python",
   "pygments_lexer": "ipython3",
   "version": "3.6.8"
  }
 },
 "nbformat": 4,
 "nbformat_minor": 2
}
